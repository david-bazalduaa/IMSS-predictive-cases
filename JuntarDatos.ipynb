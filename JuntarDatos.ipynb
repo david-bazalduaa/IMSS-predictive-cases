{
 "cells": [
  {
   "cell_type": "code",
   "execution_count": 10,
   "metadata": {},
   "outputs": [
    {
     "name": "stdout",
     "output_type": "stream",
     "text": [
      "Archivo combinado guardado como: datos_combinados_femeninos.xlsx\n"
     ]
    }
   ],
   "source": [
    "import pandas as pd\n",
    "import os\n",
    "\n",
    "# Ruta de la carpeta que contiene los archivos\n",
    "carpeta = r\"C:\\Users\\omarl\\Downloads\\drive-download-20241126T035938Z-001\"\n",
    "\n",
    "# Lista para almacenar los DataFrames individuales\n",
    "dataframes = []\n",
    "\n",
    "# Años desde 2003 hasta 2023\n",
    "años = list(range(2003, 2024))\n",
    "\n",
    "# Iteramos sobre los archivos de la carpeta\n",
    "for i, archivo in enumerate(sorted(os.listdir(carpeta))):\n",
    "    if archivo.endswith('.xlsx') or archivo.endswith('.xls'):\n",
    "        # Leer el archivo Excel\n",
    "        df = pd.read_excel(os.path.join(carpeta, archivo))\n",
    "        \n",
    "        # Agregar la columna de año\n",
    "        df['Año'] = años[i]  # Asignamos el año correspondiente\n",
    "        \n",
    "        # Añadir el DataFrame a la lista\n",
    "        dataframes.append(df)\n",
    "\n",
    "# Combinar todos los DataFrames en uno solo\n",
    "df_combinado = pd.concat(dataframes, ignore_index=True)\n",
    "\n",
    "# Guardar el DataFrame combinado en un nuevo archivo Excel\n",
    "archivo_salida = \"datos_combinados_femeninos.xlsx\"\n",
    "df_combinado.to_excel(archivo_salida, index=False)\n",
    "\n",
    "print(f\"Archivo combinado guardado como: {archivo_salida}\")"
   ]
  }
 ],
 "metadata": {
  "kernelspec": {
   "display_name": "Python 3",
   "language": "python",
   "name": "python3"
  },
  "language_info": {
   "codemirror_mode": {
    "name": "ipython",
    "version": 3
   },
   "file_extension": ".py",
   "mimetype": "text/x-python",
   "name": "python",
   "nbconvert_exporter": "python",
   "pygments_lexer": "ipython3",
   "version": "3.12.4"
  }
 },
 "nbformat": 4,
 "nbformat_minor": 2
}
